{
 "cells": [
  {
   "cell_type": "code",
   "execution_count": null,
   "metadata": {},
   "outputs": [],
   "source": [
    "import pandas as pd\n",
    "import numpy as np\n",
    "from scipy.stats import zscore\n",
    "from sklearn.impute import SimpleImputer\n",
    "from sklearn.preprocessing import StandardScaler\n",
    "import missingno as msno\n",
    "import seaborn as sns\n",
    "import matplotlib.pyplot as plt"
   ]
  },
  {
   "cell_type": "code",
   "execution_count": null,
   "metadata": {},
   "outputs": [],
   "source": [
    "df = pd.read_csv(\"power_plant_dataset.csv\")"
   ]
  },
  {
   "cell_type": "code",
   "execution_count": null,
   "metadata": {},
   "outputs": [],
   "source": [
    "# --- Step 1: Visualize missing values using missingno ---\n",
    "plt.figure(figsize=(10,6))\n",
    "msno.matrix(df)\n",
    "plt.title(\"Missing Values Visualization\")\n",
    "plt.show()"
   ]
  },
  {
   "cell_type": "code",
   "execution_count": null,
   "metadata": {},
   "outputs": [],
   "source": [
    "# --- Step 2: Visualize the dataset with a pairplot ---\n",
    "numerical_cols = df.select_dtypes(include=['float64', 'int64']).columns.tolist()\n",
    "\n",
    "plt.figure(figsize=(12, 8))\n",
    "sns.pairplot(df[numerical_cols])\n",
    "plt.suptitle(\"Scatter Plot Matrix of Numerical Features\", size=16)\n",
    "plt.show()"
   ]
  },
  {
   "cell_type": "code",
   "execution_count": null,
   "metadata": {},
   "outputs": [],
   "source": [
    "# Impute missing values using mean for numerical columns\n",
    "imputer = SimpleImputer(strategy='mean')\n",
    "df[numerical_cols] = imputer.fit_transform(df[numerical_cols])"
   ]
  },
  {
   "cell_type": "code",
   "execution_count": null,
   "metadata": {},
   "outputs": [],
   "source": [
    "# --- Step 4: Handle Duplicates ---\n",
    "df = df.drop_duplicates()# --- Step 5: Handle Outliers ---\n",
    "# Calculate Z-scores to identify outliers\n",
    "z_scores = np.abs(zscore(df[numerical_cols]))\n",
    "df_no_outliers = df[(z_scores < 3).all(axis=1)]  # Removing rows with any outliers"
   ]
  },
  {
   "cell_type": "code",
   "execution_count": null,
   "metadata": {},
   "outputs": [],
   "source": [
    "# --- Step 6: Handle Noise ---\n",
    "# Apply rolling median to smooth noisy data\n",
    "for col in numerical_cols:\n",
    "    df_no_outliers[col] = df_no_outliers[col].rolling(window=3, min_periods=1).median()"
   ]
  },
  {
   "cell_type": "code",
   "execution_count": null,
   "metadata": {},
   "outputs": [],
   "source": [
    "# --- Step 7: Scaling ---\n",
    "scaler = StandardScaler()\n",
    "df_no_outliers[numerical_cols] = scaler.fit_transform(df_no_outliers[numerical_cols])\n"
   ]
  },
  {
   "cell_type": "code",
   "execution_count": null,
   "metadata": {},
   "outputs": [],
   "source": [
    "# --- Step 8: Final Preprocessed Dataset ---\n",
    "# Save the cleaned and preprocessed dataset\n",
    "df_no_outliers.to_csv(\"power_plant_preprocessed_dataset.csv\", index=False)\n",
    "print(\"Preprocessed dataset saved as 'power_plant_preprocessed_dataset.csv'\")"
   ]
  },
  {
   "cell_type": "code",
   "execution_count": null,
   "metadata": {},
   "outputs": [],
   "source": [
    "# --- Step 9: Visualize Missing Values After Preprocessing ---\n",
    "plt.figure(figsize=(10,6))\n",
    "msno.matrix(df_no_outliers)\n",
    "plt.title(\"Missing Values After Preprocessing\")\n",
    "plt.show()"
   ]
  },
  {
   "cell_type": "code",
   "execution_count": null,
   "metadata": {},
   "outputs": [],
   "source": [
    "# --- Step 10: Model Training ---\n",
    "# Separate features and target\n",
    "X = df_no_outliers.drop([\"Power_Plant_ID\", \"Fuel_Type\", \"Plant_Location\"], axis=1)  # Drop non-numeric features\n",
    "y = df_no_outliers[\"Efficiency_percent\"]  # Target variable"
   ]
  },
  {
   "cell_type": "code",
   "execution_count": null,
   "metadata": {},
   "outputs": [],
   "source": [
    "# Split into training and test sets\n",
    "from sklearn.model_selection import train_test_split\n",
    "X_train, X_test, y_train, y_test = train_test_split(X, y, test_size=0.2, random_state=42)\n"
   ]
  },
  {
   "cell_type": "code",
   "execution_count": null,
   "metadata": {},
   "outputs": [],
   "source": [
    "# Train the SVR model (Support Vector Regression)\n",
    "from sklearn.svm import SVR\n",
    "svr_model = SVR(kernel='linear')\n",
    "svr_model.fit(X_train, y_train)"
   ]
  },
  {
   "cell_type": "code",
   "execution_count": null,
   "metadata": {},
   "outputs": [],
   "source": [
    "# Predict and evaluate the model on preprocessed data\n",
    "from sklearn.metrics import mean_squared_error, r2_score\n",
    "y_pred = svr_model.predict(X_test)\n",
    "mse = mean_squared_error(y_test, y_pred)\n",
    "r2 = r2_score(y_test, y_pred)"
   ]
  },
  {
   "cell_type": "code",
   "execution_count": null,
   "metadata": {},
   "outputs": [],
   "source": [
    "print(f\"Mean Squared Error: {mse:.4f}\")\n",
    "print(f\"R^2 Score: {r2:.4f}\")"
   ]
  }
 ],
 "metadata": {
  "language_info": {
   "name": "python"
  }
 },
 "nbformat": 4,
 "nbformat_minor": 2
}
